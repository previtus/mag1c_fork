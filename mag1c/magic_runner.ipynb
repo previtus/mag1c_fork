{
 "cells": [
  {
   "cell_type": "code",
   "execution_count": 13,
   "id": "72220b8c-9952-4eca-aaa8-4ed1234eefb6",
   "metadata": {},
   "outputs": [
    {
     "name": "stdout",
     "output_type": "stream",
     "text": [
      "total 16G\n",
      "drwxr-xr-x 2 previtus previtus 4.0K Jul 14 10:15 .\n",
      "drwxrwxr-x 5 previtus previtus 4.0K Jul 14 10:17 ..\n",
      "-rw-r--r-- 1 previtus previtus 8.2K Jul 14 10:15 ang20150419t225205_README_v1f.txt\n",
      "-rw-r--r-- 1 previtus previtus  66M Jul 14 10:15 ang20150419t225205_rdn_v1f_glt\n",
      "-rw-r--r-- 1 previtus previtus  437 Jul 14 10:15 ang20150419t225205_rdn_v1f_glt.hdr\n",
      "-rw-r--r-- 1 previtus previtus 140M Jul 14 10:15 ang20150419t225205_rdn_v1f_igm\n",
      "-rw-r--r-- 1 previtus previtus  305 Jul 14 10:15 ang20150419t225205_rdn_v1f_igm.hdr\n",
      "-rw-r--r-- 1 previtus previtus  14G Jul 14 10:11 ang20150419t225205_rdn_v1f_img\n",
      "-rw-r--r-- 1 previtus previtus  15K Jul 14 10:15 ang20150419t225205_rdn_v1f_img.hdr\n",
      "-rw-r--r-- 1 previtus previtus 140M Jul 14 10:11 ang20150419t225205_rdn_v1f_loc\n",
      "-rw-r--r-- 1 previtus previtus  266 Jul 14 10:15 ang20150419t225205_rdn_v1f_loc.hdr\n",
      "-rw-r--r-- 1 previtus previtus 512M Jul 14 10:15 ang20150419t225205_rdn_v1f_obs\n",
      "-rw-r--r-- 1 previtus previtus  492 Jul 14 10:15 ang20150419t225205_rdn_v1f_obs.hdr\n",
      "-rw-r--r-- 1 previtus previtus 716M Jul 14 10:15 ang20150419t225205_rdn_v1f_obs_ort\n",
      "-rw-r--r-- 1 previtus previtus  645 Jul 14 10:15 ang20150419t225205_rdn_v1f_obs_ort.hdr\n"
     ]
    }
   ],
   "source": [
    "# !ls /AVIRISNG/targz/\n",
    "!ls ../data/ang20150419t225205_rdn_v1f/ -luah\n"
   ]
  },
  {
   "cell_type": "code",
   "execution_count": 18,
   "id": "a8499f87-f5a8-4ba1-8acd-4c9598ac8ecf",
   "metadata": {},
   "outputs": [
    {
     "name": "stdout",
     "output_type": "stream",
     "text": [
      "Beginning processing of ../data/ang20150419t225205_rdn_v1f/ang20150419t225205_rdn_v1f_img\n",
      "Using compute device: cpu.\n",
      "Computing with precision float64. Output will be written as float32.\n",
      "Opening radiance data file.\n",
      "Target spectrum generated successfully.\n",
      "Checking that the provided target is compatible with the data file wavelengths...\n",
      "Target spectrum checks complete.\n",
      "Filter output will be written to ang20150419t225205_rdn_v1f_img_OUT.hdr\n",
      "Beginning main filtering, to be completed in 803 steps:\n",
      "  1, Traceback (most recent call last):\n",
      "  File \"mag1c.py\", line 978, in <module>\n",
      "    main()\n",
      "  File \"mag1c.py\", line 874, in main\n",
      "    torch.logical_not(sat_mask) if sat_mask is not None else None)\n",
      "  File \"/home/previtus/anaconda3/envs/magic/lib/python3.6/site-packages/torch/autograd/grad_mode.py\", line 49, in decorate_no_grad\n",
      "    return func(*args, **kwargs)\n",
      "  File \"mag1c.py\", line 126, in acrwl1mf\n",
      "    Cit = torch.cholesky_solve(torch.transpose(target, 1, 2), torch.cholesky(C, upper=False), upper=False)\n",
      "RuntimeError: cholesky_cpu: For batch 0: U(7,7) is zero, singular U.\n"
     ]
    }
   ],
   "source": [
    "!python mag1c.py '../data/ang20150419t225205_rdn_v1f/ang20150419t225205_rdn_v1f_img' --out \"ang20150419t225205_rdn_v1f_img_OUT\" --iter 20"
   ]
  }
 ],
 "metadata": {
  "kernelspec": {
   "display_name": "Python 3.6.15 ('magic')",
   "language": "python",
   "name": "python3"
  },
  "language_info": {
   "codemirror_mode": {
    "name": "ipython",
    "version": 3
   },
   "file_extension": ".py",
   "mimetype": "text/x-python",
   "name": "python",
   "nbconvert_exporter": "python",
   "pygments_lexer": "ipython3",
   "version": "3.6.15"
  },
  "vscode": {
   "interpreter": {
    "hash": "b5040f9eb8f75fbc31c89d2b41854f88e4e4056509e0289b2f2e3d1066b54f24"
   }
  }
 },
 "nbformat": 4,
 "nbformat_minor": 5
}
