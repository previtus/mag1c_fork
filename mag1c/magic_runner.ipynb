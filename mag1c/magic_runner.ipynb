{
 "cells": [
  {
   "cell_type": "code",
   "execution_count": 5,
   "id": "2c7c02de-5718-4557-bc73-2c8633dc43e9",
   "metadata": {},
   "outputs": [
    {
     "name": "stdout",
     "output_type": "stream",
     "text": [
      "usage: mag1c.py [--spec TARGET_SPEC_FILE] [--out OUTPUT_FILE] [--gpu] [-i N]\n",
      "                [-g N] [-b N] [-s] [-t N] [-o] [-d] [-p] [--asap] [--noalbedo]\n",
      "                [--no-albedo-output] [--nonnegativeoff]\n",
      "                [--onlypositiveradiance] [--outputgeo GLT] [--geo GLT]\n",
      "                [--optimize] [-q] [--version] [-T THRESHOLD] [-W LOW HIGH]\n",
      "                [-M [RADIUS]] [-A [PX_AREA]] [--hfdi]\n",
      "                [--saturation-processing-block-length N] [--no-sparsity]\n",
      "                [--covariance-update-scaling FLOAT]\n",
      "                [--covariance-lerp-alpha FLOAT]\n",
      "                [--use-wavelength-range MIN MAX]\n",
      "                [--visible-mask-growing-threshold FLOAT] [-S] [-h]\n",
      "                RADIANCE_FILE\n",
      "\n",
      "       M atched filter with\n",
      "       A lbedo correction and\n",
      " rewei G hted\n",
      "     L 1 sparsity\n",
      "       C ode\n",
      "\n",
      "University of Utah Albedo-Corrected Reweighted-L1 Matched Filter\n",
      "v0.0.0-dev0\n",
      "\n",
      "positional arguments:\n",
      "  RADIANCE_FILE         ENVI format radiance file to process -- Provide the\n",
      "                        data file itself, not the header\n",
      "\n",
      "optional arguments:\n",
      "  --spec TARGET_SPEC_FILE\n",
      "                        Target spectrum file to use. If no file is specified,\n",
      "                        a target spectrum will be calculated from an internal\n",
      "                        methane absorption spectrum that is convolved to the\n",
      "                        band centers and FWHMs stored in the radiance image\n",
      "                        header.\n",
      "  --out OUTPUT_FILE     File to write output into. Provide the data file\n",
      "                        itself, not the header.\n",
      "  --gpu                 Use GPU for accelerated computation. (default: False)\n",
      "  -i N, --iter N        Number of iterations to run. (default: 30)\n",
      "  -g N, --group N       Grouping size for detectors. (default: 1)\n",
      "  -b N, --batch N       Number of groups processed simultaneously. (default:\n",
      "                        1)\n",
      "  -s, --single          Use single/float32 instead of double/float64 in\n",
      "                        computation. (default: False)\n",
      "  -t N, --threads N     Number of additional threads for loading data.\n",
      "                        (default: 0)\n",
      "  -o, --overwrite       Force the output files to overwrite any existing\n",
      "                        files. (default: False)\n",
      "  -d, --writedouble     Write output data file as double precision instead of\n",
      "                        single. Does not affect compute. (default: False)\n",
      "  -p, --noprefill       Don't write NO_DATA value (-9999) to the output file\n",
      "                        upon creation. (default: False)\n",
      "  --asap                Force the results to be written to disk ASAP after\n",
      "                        each batch, instead of with some additional delay from\n",
      "                        the memory-mapped file caching. (default: False)\n",
      "  --noalbedo            Calculate results withOUT albedo correction. (default:\n",
      "                        False).\n",
      "  --no-albedo-output    Do not include albedo band in result file.\n",
      "  --nonnegativeoff      Do not apply non-negativity constraint to MF result.\n",
      "                        (default: False)\n",
      "  --onlypositiveradiance\n",
      "                        Only process pixels that have strictly non-negative\n",
      "                        radiance for all wavelengths. This flag overrides any\n",
      "                        batch size setting to 1.\n",
      "  --outputgeo GLT       Use the provided GLT file to perform geocorrection to\n",
      "                        the resulting ENVI file. This result will have the\n",
      "                        same name as the provided output file but ending with\n",
      "                        '_geo'.\n",
      "  --geo GLT             If using an orthocorrected radiance file, provide the\n",
      "                        corresponding GLT file. The output will also be\n",
      "                        geocorrected. Do not use with --outputgeo to apply\n",
      "                        glt.\n",
      "  --optimize            Use Pytorch torchscript optimizations. Experimental.\n",
      "  -q, --quiet           Do not write status updates to console.\n",
      "  --version             show program's version number and exit\n",
      "  -T THRESHOLD, --saturationthreshold THRESHOLD\n",
      "                        specify the threshold used for classifying pixels as\n",
      "                        saturated (default: 6.0)\n",
      "  -W LOW HIGH, --saturationwindow LOW HIGH\n",
      "                        specify the contiguous wavelength window within which\n",
      "                        to detect saturation, independent of bands used in the\n",
      "                        filter (default: 1945, 2485 nanometers)\n",
      "  -M [RADIUS], --maskgrowradius [RADIUS]\n",
      "                        radius to use for expanding the saturation mask to\n",
      "                        cover (and exclude) flare-related anomalies. This\n",
      "                        value must include units: meters (abbreviated as m) or\n",
      "                        pixels (abbreviated as px). If flag is given without a\n",
      "                        value, None will be used. This is a combined flag for\n",
      "                        enabling mask dilation and setting the distance to\n",
      "                        dilate.\n",
      "  -A [PX_AREA], --mingrowarea [PX_AREA]\n",
      "                        minimum number of pixels that must constitute a\n",
      "                        2-connected saturation region for it to be grown by\n",
      "                        the mask-grow-radius value. If flag is provided\n",
      "                        without a value, 5 pixels will be assumed as the\n",
      "                        value.\n",
      "  --hfdi                calculate the Hyperspectral Fire Detection Index (doi:\n",
      "                        10.1016/j.rse.2009.03.010) and append band to output.\n",
      "  --saturation-processing-block-length N\n",
      "                        control the number of data lines pre-processed at once\n",
      "                        when using masking options\n",
      "  --no-sparsity         disable computation of sparsity weighting factors and\n",
      "                        sets them to zero\n",
      "  --covariance-update-scaling FLOAT\n",
      "                        modify the amount of retrieved signal that is removed\n",
      "                        from the data for iterative statistics updates. 1\n",
      "                        removes identically the signal that is detected. 0\n",
      "                        does not modify the data used for statistical\n",
      "                        estimates and effectively does not update the\n",
      "                        covariance in iterative steps (default: 1.0)\n",
      "  --covariance-lerp-alpha FLOAT\n",
      "                        modify the covariance at all iterations by emphasizing\n",
      "                        the diagonal through linearly interpolating non-\n",
      "                        diagonal entries to zero by this fractional weight [0,\n",
      "                        1] (default: 0.0)\n",
      "  --use-wavelength-range MIN MAX\n",
      "                        defines what contiguous range of wavelengths (in\n",
      "                        nanometers) should be included in the filter\n",
      "                        calculation (default: (2122, 2488) nm)\n",
      "  --visible-mask-growing-threshold FLOAT\n",
      "                        restrict mask dilation to only occur when 500 nm\n",
      "                        radiance is less than this value\n",
      "  -S, --saturation      enable saturation detection and masking - masked\n",
      "                        pixels are excluded from statistical calculations that\n",
      "                        influence all pixels, but the statistics from other\n",
      "                        pixels being processed will be used to filter the\n",
      "                        masked pixel. This flag overrides any batch size\n",
      "                        setting to 1. Required if any saturation related flags\n",
      "                        are provided. (default: False)\n",
      "  -h, --help            show this help message and exit\n",
      "\n",
      "When using this software, please cite: \n",
      " Foote et al. 2020, \"Fast and Accurate Retrieval of Methane\n",
      " Concentration from Imaging Spectrometer Data Using Sparsity Prior\"\n",
      " IEEE Transactions on Geoscience and Remote Sensing.    doi: 10.1109/TGRS.2020.2976888 \n"
     ]
    }
   ],
   "source": [
    "!python mag1c.py --help"
   ]
  },
  {
   "cell_type": "code",
   "execution_count": 8,
   "id": "fec4d621-653d-4da9-8a8d-98f48c03006e",
   "metadata": {},
   "outputs": [
    {
     "name": "stdout",
     "output_type": "stream",
     "text": [
      "54  Miniconda3-latest-Linux-x86_64.sh  STARCOP\tgeoreader  miniconda3  snap\n"
     ]
    }
   ],
   "source": [
    "!ls ../../../gonzalo/"
   ]
  },
  {
   "cell_type": "code",
   "execution_count": 11,
   "id": "82ce214d-e099-4623-8c5b-72ab7cf1681f",
   "metadata": {},
   "outputs": [
    {
     "name": "stdout",
     "output_type": "stream",
     "text": [
      "gs://starcop/JPL-CG4-detection-2017/images/ang20150419t155032.tif\n",
      "gs://starcop/JPL-CG4-detection-2017/images/ang20150419t161445.tif\n",
      "gs://starcop/JPL-CG4-detection-2017/images/ang20150419t163741.tif\n",
      "gs://starcop/JPL-CG4-detection-2017/images/ang20150419t172431.tif\n",
      "gs://starcop/JPL-CG4-detection-2017/images/ang20150419t174758.tif\n",
      "gs://starcop/JPL-CG4-detection-2017/images/ang20150419t181127.tif\n",
      "gs://starcop/JPL-CG4-detection-2017/images/ang20150419t185922.tif\n",
      "gs://starcop/JPL-CG4-detection-2017/images/ang20150419t192226.tif\n",
      "gs://starcop/JPL-CG4-detection-2017/images/ang20150419t194538.tif\n",
      "gs://starcop/JPL-CG4-detection-2017/images/ang20150419t221127.tif\n",
      "gs://starcop/JPL-CG4-detection-2017/images/ang20150419t223618.tif\n",
      "gs://starcop/JPL-CG4-detection-2017/images/ang20150419t224329.tif\n",
      "gs://starcop/JPL-CG4-detection-2017/images/ang20150419t225205.tif\n",
      "gs://starcop/JPL-CG4-detection-2017/images/ang20150419t230200.tif\n",
      "gs://starcop/JPL-CG4-detection-2017/images/ang20150419t230603.tif\n",
      "gs://starcop/JPL-CG4-detection-2017/images/ang20150419t231105.tif\n",
      "gs://starcop/JPL-CG4-detection-2017/images/ang20150420t153209.tif\n",
      "gs://starcop/JPL-CG4-detection-2017/images/ang20150420t155846.tif\n",
      "gs://starcop/JPL-CG4-detection-2017/images/ang20150420t161618.tif\n",
      "gs://starcop/JPL-CG4-detection-2017/images/ang20150420t162455.tif\n",
      "gs://starcop/JPL-CG4-detection-2017/images/ang20150420t163424.tif\n",
      "gs://starcop/JPL-CG4-detection-2017/images/ang20150420t164200.tif\n",
      "gs://starcop/JPL-CG4-detection-2017/images/ang20150420t165116.tif\n",
      "gs://starcop/JPL-CG4-detection-2017/images/ang20150420t170010.tif\n",
      "gs://starcop/JPL-CG4-detection-2017/images/ang20150420t170855.tif\n",
      "gs://starcop/JPL-CG4-detection-2017/images/ang20150420t171715.tif\n",
      "gs://starcop/JPL-CG4-detection-2017/images/ang20150420t172540.tif\n",
      "gs://starcop/JPL-CG4-detection-2017/images/ang20150420t173533.tif\n",
      "gs://starcop/JPL-CG4-detection-2017/images/ang20150420t174355.tif\n",
      "gs://starcop/JPL-CG4-detection-2017/images/ang20150420t180624.tif\n",
      "gs://starcop/JPL-CG4-detection-2017/images/ang20150420t182050.tif\n",
      "gs://starcop/JPL-CG4-detection-2017/images/ang20150420t182808.tif\n",
      "gs://starcop/JPL-CG4-detection-2017/images/ang20150420t183606.tif\n",
      "gs://starcop/JPL-CG4-detection-2017/images/ang20150420t184333.tif\n",
      "gs://starcop/JPL-CG4-detection-2017/images/ang20150420t185149.tif\n",
      "gs://starcop/JPL-CG4-detection-2017/images/ang20150420t185951.tif\n",
      "gs://starcop/JPL-CG4-detection-2017/images/ang20150420t190759.tif\n",
      "gs://starcop/JPL-CG4-detection-2017/images/ang20150421t160854.tif\n",
      "gs://starcop/JPL-CG4-detection-2017/images/ang20150421t170417.tif\n",
      "gs://starcop/JPL-CG4-detection-2017/images/ang20150421t172847.tif\n",
      "gs://starcop/JPL-CG4-detection-2017/images/ang20150421t175040.tif\n",
      "gs://starcop/JPL-CG4-detection-2017/images/ang20150421t181252.tif\n",
      "gs://starcop/JPL-CG4-detection-2017/images/ang20150421t183438.tif\n",
      "gs://starcop/JPL-CG4-detection-2017/images/ang20150421t185811.tif\n",
      "gs://starcop/JPL-CG4-detection-2017/images/ang20150421t192110.tif\n",
      "gs://starcop/JPL-CG4-detection-2017/images/ang20150421t194335.tif\n",
      "gs://starcop/JPL-CG4-detection-2017/images/ang20150421t200517.tif\n"
     ]
    }
   ],
   "source": [
    "!gsutil ls gs://starcop/JPL-CG4-detection-2017/images/"
   ]
  },
  {
   "cell_type": "markdown",
   "id": "b5ec1f8b-16c2-4417-b7aa-556aba823594",
   "metadata": {},
   "source": [
    "Does GEOTiff work?"
   ]
  },
  {
   "cell_type": "code",
   "execution_count": 12,
   "id": "0f4df4cb-0d05-47d7-9812-41ecbd86b57f",
   "metadata": {},
   "outputs": [
    {
     "name": "stdout",
     "output_type": "stream",
     "text": [
      "Copying gs://starcop/JPL-CG4-detection-2017/images/ang20150419t155032.tif...\n",
      "- [1 files][ 28.2 GiB/ 28.2 GiB]   64.8 MiB/s                                   \n",
      "Operation completed over 1 objects/28.2 GiB.                                     \n"
     ]
    }
   ],
   "source": [
    "!gsutil cp gs://starcop/JPL-CG4-detection-2017/images/ang20150419t155032.tif ."
   ]
  },
  {
   "cell_type": "code",
   "execution_count": 13,
   "id": "d6362716-5731-4bf8-8ca3-45e38e2e0930",
   "metadata": {},
   "outputs": [
    {
     "name": "stdout",
     "output_type": "stream",
     "text": [
      "__init__.py  ang20150419t155032.tif  ch4.lut   magic_runner.ipynb\n",
      "__main__.py  ch4.hdr\t\t     mag1c.py\n"
     ]
    }
   ],
   "source": [
    "!ls"
   ]
  },
  {
   "cell_type": "code",
   "execution_count": 16,
   "id": "343450b9-280f-4e99-9d48-7e36a2a8a98b",
   "metadata": {},
   "outputs": [
    {
     "name": "stdout",
     "output_type": "stream",
     "text": [
      "Beginning processing of ang20150419t155032.tif\n",
      "Using compute device: cpu.\n",
      "Computing with precision float64. Output will be written as float32.\n",
      "Opening radiance data file.\n",
      "Traceback (most recent call last):\n",
      "  File \"mag1c.py\", line 965, in <module>\n",
      "    main()\n",
      "  File \"mag1c.py\", line 631, in main\n",
      "    rdn_file = spectral.io.envi.open(args.rdn + '.hdr')\n",
      "  File \"/home/previtus/anaconda3/envs/magic/lib/python3.6/site-packages/spectral/io/envi.py\", line 289, in open\n",
      "    header_path = find_file_path(file)\n",
      "  File \"/home/previtus/anaconda3/envs/magic/lib/python3.6/site-packages/spectral/io/spyfile.py\", line 120, in find_file_path\n",
      "    raise FileNotFoundError(msg)\n",
      "spectral.io.spyfile.FileNotFoundError: Unable to locate file \"ang20150419t155032.tif.hdr\". If the file exists, use its full path or place its directory in the SPECTRAL_DATA environment variable.\n"
     ]
    }
   ],
   "source": [
    "!python mag1c.py 'ang20150419t155032.tif' --out \"ang20150419t155032_out_geotiff\"\n",
    "# !mag1c --gpu \"ang20190922t192642_rdn_v2x1/ang20190922t192642_rdn_v2x1_img\" --out \"test_out\""
   ]
  },
  {
   "cell_type": "markdown",
   "id": "d674d502-df95-45f6-8a36-f1f7eafdf7be",
   "metadata": {},
   "source": [
    "Or zipped product"
   ]
  },
  {
   "cell_type": "code",
   "execution_count": 21,
   "id": "72220b8c-9952-4eca-aaa8-4ed1234eefb6",
   "metadata": {},
   "outputs": [
    {
     "name": "stdout",
     "output_type": "stream",
     "text": [
      "total 32G\n",
      "drwxr-xr-x 2 previtus previtus  4.0K Jul 13 13:49 .\n",
      "drwxrwxr-x 3 previtus previtus  4.0K Jul 13 13:41 ..\n",
      "-rw-r--r-- 1 previtus previtus  8.2K Jul 13 13:40 ang20150419t155032_README_v1f.txt\n",
      "-rw-r--r-- 1 previtus previtus  135M Jul 13 13:47 ang20150419t155032_rdn_v1f_glt\n",
      "-rw-r--r-- 1 previtus previtus   438 Jul 13 13:47 ang20150419t155032_rdn_v1f_glt.hdr\n",
      "-rw-r--r-- 1 previtus previtus  274M Jul 13 13:40 ang20150419t155032_rdn_v1f_igm\n",
      "-rw-r--r-- 1 previtus previtus   305 Jul 13 13:47 ang20150419t155032_rdn_v1f_igm.hdr\n",
      "-rw-r--r-- 1 previtus previtus   29G Jul 13 13:40 ang20150419t155032_rdn_v1f_img\n",
      "-rw-r--r-- 1 previtus previtus   15K Jul 13 13:47 ang20150419t155032_rdn_v1f_img.hdr\n",
      "-rw-r--r-- 1 previtus previtus  274M Jul 13 13:48 ang20150419t155032_rdn_v1f_loc\n",
      "-rw-r--r-- 1 previtus previtus   266 Jul 13 13:48 ang20150419t155032_rdn_v1f_loc.hdr\n",
      "-rw-r--r-- 1 previtus previtus 1002M Jul 13 13:40 ang20150419t155032_rdn_v1f_obs\n",
      "-rw-r--r-- 1 previtus previtus   492 Jul 13 13:47 ang20150419t155032_rdn_v1f_obs.hdr\n",
      "-rw-r--r-- 1 previtus previtus  1.5G Jul 13 13:47 ang20150419t155032_rdn_v1f_obs_ort\n",
      "-rw-r--r-- 1 previtus previtus   646 Jul 13 13:40 ang20150419t155032_rdn_v1f_obs_ort.hdr\n"
     ]
    }
   ],
   "source": [
    "# !ls /AVIRISNG/targz/\n",
    "!ls ../data/ang20150419t155032_rdn_v1f/ -luah"
   ]
  },
  {
   "cell_type": "code",
   "execution_count": 22,
   "id": "a8499f87-f5a8-4ba1-8acd-4c9598ac8ecf",
   "metadata": {},
   "outputs": [
    {
     "name": "stdout",
     "output_type": "stream",
     "text": [
      "Beginning processing of ../data/ang20150419t155032_rdn_v1f/ang20150419t155032_rdn_v1f_img\n",
      "Using compute device: cpu.\n",
      "Computing with precision float64. Output will be written as float32.\n",
      "Opening radiance data file.\n",
      "Target spectrum generated successfully.\n",
      "Checking that the provided target is compatible with the data file wavelengths...\n",
      "Target spectrum checks complete.\n",
      "Filter output will be written to test_out.hdr\n",
      "Beginning main filtering, to be completed in 771 steps:\n",
      "  1, mag1c.py:124: UserWarning: torch.cholesky is deprecated in favor of torch.linalg.cholesky and will be removed in a future PyTorch release.\n",
      "L = torch.cholesky(A)\n",
      "should be replaced with\n",
      "L = torch.linalg.cholesky(A)\n",
      "and\n",
      "U = torch.cholesky(A, upper=True)\n",
      "should be replaced with\n",
      "U = torch.linalg.cholesky(A).transpose(-2, -1).conj().\n",
      "This transform will produce equivalent results for all valid (symmetric positive definite) inputs. (Triggered internally at  ../aten/src/ATen/native/BatchLinearAlgebra.cpp:1285.)\n",
      "  Cit = torch.cholesky_solve(torch.transpose(target, 1, 2), torch.cholesky(C, upper=False), upper=False)\n",
      "Traceback (most recent call last):\n",
      "  File \"mag1c.py\", line 965, in <module>\n",
      "    main()\n",
      "  File \"mag1c.py\", line 861, in main\n",
      "    torch.logical_not(sat_mask) if sat_mask is not None else None)\n",
      "  File \"/home/previtus/anaconda3/envs/magic/lib/python3.6/site-packages/torch/autograd/grad_mode.py\", line 28, in decorate_context\n",
      "    return func(*args, **kwargs)\n",
      "  File \"mag1c.py\", line 124, in acrwl1mf\n",
      "    Cit = torch.cholesky_solve(torch.transpose(target, 1, 2), torch.cholesky(C, upper=False), upper=False)\n",
      "RuntimeError: cholesky: (Batch element 0): The factorization could not be completed because the input is not positive-definite (the leading minor of order 11 is not positive-definite).\n"
     ]
    }
   ],
   "source": [
    "!python mag1c.py '../data/ang20150419t155032_rdn_v1f/ang20150419t155032_rdn_v1f_img' --out \"test_out\""
   ]
  },
  {
   "cell_type": "code",
   "execution_count": 25,
   "id": "cd159dbc-0a52-4a30-91f5-64661aea8ea2",
   "metadata": {},
   "outputs": [
    {
     "name": "stdout",
     "output_type": "stream",
     "text": [
      "Beginning processing of ../data/ang20150419t155032_rdn_v1f/ang20150419t155032_rdn_v1f_img\n",
      "Using compute device: cpu.\n",
      "Computing with precision float64. Output will be written as float32.\n",
      "Opening radiance data file.\n",
      "Target spectrum generated successfully.\n",
      "Checking that the provided target is compatible with the data file wavelengths...\n",
      "Target spectrum checks complete.\n",
      "Filter output will be written to test_out_02.hdr\n",
      "Beginning main filtering, to be completed in 155 steps:\n",
      "  1, mag1c.py:124: UserWarning: torch.cholesky is deprecated in favor of torch.linalg.cholesky and will be removed in a future PyTorch release.\n",
      "L = torch.cholesky(A)\n",
      "should be replaced with\n",
      "L = torch.linalg.cholesky(A)\n",
      "and\n",
      "U = torch.cholesky(A, upper=True)\n",
      "should be replaced with\n",
      "U = torch.linalg.cholesky(A).transpose(-2, -1).conj().\n",
      "This transform will produce equivalent results for all valid (symmetric positive definite) inputs. (Triggered internally at  ../aten/src/ATen/native/BatchLinearAlgebra.cpp:1285.)\n",
      "  Cit = torch.cholesky_solve(torch.transpose(target, 1, 2), torch.cholesky(C, upper=False), upper=False)\n",
      "Traceback (most recent call last):\n",
      "  File \"mag1c.py\", line 965, in <module>\n",
      "    main()\n",
      "  File \"mag1c.py\", line 861, in main\n",
      "    torch.logical_not(sat_mask) if sat_mask is not None else None)\n",
      "  File \"/home/previtus/anaconda3/envs/magic/lib/python3.6/site-packages/torch/autograd/grad_mode.py\", line 28, in decorate_context\n",
      "    return func(*args, **kwargs)\n",
      "  File \"mag1c.py\", line 124, in acrwl1mf\n",
      "    Cit = torch.cholesky_solve(torch.transpose(target, 1, 2), torch.cholesky(C, upper=False), upper=False)\n",
      "RuntimeError: cholesky: (Batch element 0): The factorization could not be completed because the input is not positive-definite (the leading minor of order 55 is not positive-definite).\n"
     ]
    }
   ],
   "source": [
    "!python mag1c.py '../data/ang20150419t155032_rdn_v1f/ang20150419t155032_rdn_v1f_img' --out \"test_out_02\" --iter 25 --group 5 -t 2 "
   ]
  },
  {
   "cell_type": "code",
   "execution_count": 26,
   "id": "fcc1c7a6-42f8-46b4-867b-5163f3195583",
   "metadata": {},
   "outputs": [
    {
     "name": "stdout",
     "output_type": "stream",
     "text": [
      "Beginning processing of ../data/ang20150419t155032_rdn_v1f/ang20150419t155032_rdn_v1f_img\n",
      "Using compute device: cpu.\n",
      "Computing with precision float64. Output will be written as float32.\n",
      "Opening radiance data file.\n",
      "Target spectrum generated successfully.\n",
      "Checking that the provided target is compatible with the data file wavelengths...\n",
      "Target spectrum checks complete.\n",
      "Filter output will be written to test_out_03.hdr\n",
      "Beginning main filtering, to be completed in 771 steps:\n",
      "  1, mag1c.py:124: UserWarning: torch.cholesky is deprecated in favor of torch.linalg.cholesky and will be removed in a future PyTorch release.\n",
      "L = torch.cholesky(A)\n",
      "should be replaced with\n",
      "L = torch.linalg.cholesky(A)\n",
      "and\n",
      "U = torch.cholesky(A, upper=True)\n",
      "should be replaced with\n",
      "U = torch.linalg.cholesky(A).transpose(-2, -1).conj().\n",
      "This transform will produce equivalent results for all valid (symmetric positive definite) inputs. (Triggered internally at  ../aten/src/ATen/native/BatchLinearAlgebra.cpp:1285.)\n",
      "  Cit = torch.cholesky_solve(torch.transpose(target, 1, 2), torch.cholesky(C, upper=False), upper=False)\n",
      "Traceback (most recent call last):\n",
      "  File \"mag1c.py\", line 965, in <module>\n",
      "    main()\n",
      "  File \"mag1c.py\", line 861, in main\n",
      "    torch.logical_not(sat_mask) if sat_mask is not None else None)\n",
      "  File \"/home/previtus/anaconda3/envs/magic/lib/python3.6/site-packages/torch/autograd/grad_mode.py\", line 28, in decorate_context\n",
      "    return func(*args, **kwargs)\n",
      "  File \"mag1c.py\", line 124, in acrwl1mf\n",
      "    Cit = torch.cholesky_solve(torch.transpose(target, 1, 2), torch.cholesky(C, upper=False), upper=False)\n",
      "RuntimeError: cholesky: (Batch element 0): The factorization could not be completed because the input is not positive-definite (the leading minor of order 11 is not positive-definite).\n"
     ]
    }
   ],
   "source": [
    "!python mag1c.py '../data/ang20150419t155032_rdn_v1f/ang20150419t155032_rdn_v1f_img' --out \"test_out_03\" --iter 20"
   ]
  },
  {
   "cell_type": "code",
   "execution_count": 23,
   "id": "31fb1692-97cb-43fb-9c8c-2f12406f5e8a",
   "metadata": {},
   "outputs": [
    {
     "name": "stdout",
     "output_type": "stream",
     "text": [
      "total 29G\n",
      "drwxrwxr-x 3 previtus previtus 4.0K Jul 13 13:50 .\n",
      "drwxrwxr-x 6 previtus previtus 4.0K Jul 13 13:35 ..\n",
      "drwxrwxr-x 2 previtus previtus 4.0K Jul 13 13:26 .ipynb_checkpoints\n",
      "-rw-rw-r-- 1 previtus previtus   69 Jul 13 13:19 __init__.py\n",
      "-rw-rw-r-- 1 previtus previtus   32 Jul 13 13:19 __main__.py\n",
      "-rw-rw-r-- 1 previtus previtus  29G Jul 13 13:31 ang20150419t155032.tif\n",
      "-rw-rw-r-- 1 previtus previtus 415K Jul 13 13:49 ch4.hdr\n",
      "-rw-rw-r-- 1 previtus previtus 1.7M Jul 13 13:49 ch4.lut\n",
      "-rwxrwxr-x 1 previtus previtus  61K Jul 13 13:27 mag1c.py\n",
      "-rw-rw-r-- 1 previtus previtus  20K Jul 13 13:47 magic_runner.ipynb\n",
      "-rw-rw-r-- 1 previtus previtus 336M Jul 13 13:49 test_out\n",
      "-rw-rw-r-- 1 previtus previtus 1.6K Jul 13 13:49 test_out.hdr\n"
     ]
    }
   ],
   "source": [
    "!ls -luah"
   ]
  },
  {
   "cell_type": "code",
   "execution_count": null,
   "id": "6c144057-4625-4eca-885c-377792a1572c",
   "metadata": {},
   "outputs": [],
   "source": []
  }
 ],
 "metadata": {
  "kernelspec": {
   "display_name": "Python 3",
   "language": "python",
   "name": "python3"
  },
  "language_info": {
   "codemirror_mode": {
    "name": "ipython",
    "version": 3
   },
   "file_extension": ".py",
   "mimetype": "text/x-python",
   "name": "python",
   "nbconvert_exporter": "python",
   "pygments_lexer": "ipython3",
   "version": "3.6.15"
  }
 },
 "nbformat": 4,
 "nbformat_minor": 5
}
